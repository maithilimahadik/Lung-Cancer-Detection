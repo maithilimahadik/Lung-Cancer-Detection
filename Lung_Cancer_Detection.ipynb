{
 "cells": [
  {
   "cell_type": "code",
   "execution_count": 13,
   "id": "18c0e3aa-3a12-458d-ae55-63cb8396e1d8",
   "metadata": {},
   "outputs": [],
   "source": [
    "import os\n",
    "import numpy as np\n",
    "import matplotlib.pyplot as plt\n",
    "import tensorflow as tf\n",
    "from tensorflow.keras.preprocessing.image import ImageDataGenerator\n",
    "from tensorflow.keras.applications import ResNet50\n",
    "from tensorflow.keras import layers, Model\n",
    "from sklearn.metrics import confusion_matrix, classification_report\n",
    "import seaborn as sns"
   ]
  },
  {
   "cell_type": "code",
   "execution_count": 15,
   "id": "8003a2eb-c1c9-4295-b71f-ee83523af9b9",
   "metadata": {},
   "outputs": [],
   "source": [
    "original_dataset_dir = \"/Users/maithilimahadik/Desktop/The IQ-OTHNCCD lung cancer dataset\"  \n",
    "output_base_dir = \"/Users/maithilimahadik/Data-2\"  "
   ]
  },
  {
   "cell_type": "code",
   "execution_count": 17,
   "id": "bdc165fd-eb28-4122-8ee9-4b1319ce9338",
   "metadata": {},
   "outputs": [],
   "source": [
    "classes = ['Normal', 'Malignant', 'Benign']"
   ]
  },
  {
   "cell_type": "code",
   "execution_count": 19,
   "id": "8e7e68d5-62a6-43fb-b1cb-1ab4b54c9eda",
   "metadata": {},
   "outputs": [],
   "source": [
    "train_path = os.path.join(output_base_dir, \"train\")\n",
    "val_path = os.path.join(output_base_dir, \"valid\")\n",
    "test_path = os.path.join(output_base_dir, \"test\")"
   ]
  },
  {
   "cell_type": "code",
   "execution_count": 21,
   "id": "77829f3b-c7e4-4e06-aadf-e3b49f24ef8b",
   "metadata": {},
   "outputs": [],
   "source": [
    "datagen = ImageDataGenerator(rescale=1./255)"
   ]
  },
  {
   "cell_type": "code",
   "execution_count": 23,
   "id": "e0ab2d0b-a442-410f-b384-fc4250ab1adc",
   "metadata": {},
   "outputs": [
    {
     "name": "stdout",
     "output_type": "stream",
     "text": [
      "Found 1010 images belonging to 3 classes.\n",
      "Found 308 images belonging to 3 classes.\n",
      "Found 309 images belonging to 3 classes.\n"
     ]
    }
   ],
   "source": [
    "train_gen = datagen.flow_from_directory(train_path, classes=classes, target_size=(224, 224), batch_size=32, class_mode=\"sparse\")\n",
    "val_gen = datagen.flow_from_directory(val_path, classes=classes, target_size=(224, 224), batch_size=32, class_mode=\"sparse\")\n",
    "test_gen = datagen.flow_from_directory(test_path, classes=classes, target_size=(224, 224), batch_size=32, class_mode=\"sparse\", shuffle=False)\n"
   ]
  },
  {
   "cell_type": "code",
   "execution_count": 25,
   "id": "026c5585-879f-4de5-9600-157226dc7734",
   "metadata": {},
   "outputs": [
    {
     "name": "stdout",
     "output_type": "stream",
     "text": [
      "📂 Loading existing model...\n"
     ]
    },
    {
     "name": "stderr",
     "output_type": "stream",
     "text": [
      "WARNING:absl:Compiled the loaded model, but the compiled metrics have yet to be built. `model.compile_metrics` will be empty until you train or evaluate the model.\n"
     ]
    }
   ],
   "source": [
    "model_file = \"lung_model.h5\"\n",
    "if os.path.exists(model_file):\n",
    "    model = tf.keras.models.load_model(model_file)\n",
    "else:\n",
    "    base = ResNet50(include_top=False, weights='imagenet', input_shape=(224, 224, 3))\n",
    "    for layer in base.layers:\n",
    "        layer.trainable = False\n",
    "\n",
    "    x = layers.GlobalAveragePooling2D()(base.output)\n",
    "    x = layers.Dense(128, activation='relu')(x)\n",
    "    x = layers.Dropout(0.5)(x)\n",
    "    out = layers.Dense(len(classes), activation='softmax')(x)\n",
    "    model = Model(inputs=base.input, outputs=out)\n",
    "\n",
    "    model.compile(optimizer=\"adam\", loss=\"sparse_categorical_crossentropy\", metrics=[\"accuracy\"])\n",
    "    hist = model.fit(train_gen, validation_data=val_gen, epochs=10)\n",
    "    model.save(model_file)\n",
    "\n",
    "    plt.plot(hist.history[\"loss\"], label=\"Train Loss\")\n",
    "    plt.plot(hist.history[\"val_loss\"], label=\"Val Loss\")\n",
    "    plt.legend()\n",
    "    plt.show()"
   ]
  },
  {
   "cell_type": "code",
   "execution_count": 27,
   "id": "94df8748-511e-4e89-9529-7846aca76558",
   "metadata": {},
   "outputs": [
    {
     "name": "stderr",
     "output_type": "stream",
     "text": [
      "/opt/anaconda3/lib/python3.12/site-packages/keras/src/trainers/data_adapters/py_dataset_adapter.py:121: UserWarning: Your `PyDataset` class should call `super().__init__(**kwargs)` in its constructor. `**kwargs` can include `workers`, `use_multiprocessing`, `max_queue_size`. Do not pass these arguments to `fit()`, as they will be ignored.\n",
      "  self._warn_if_super_not_called()\n"
     ]
    },
    {
     "name": "stdout",
     "output_type": "stream",
     "text": [
      "\u001b[1m10/10\u001b[0m \u001b[32m━━━━━━━━━━━━━━━━━━━━\u001b[0m\u001b[37m\u001b[0m \u001b[1m19s\u001b[0m 2s/step - accuracy: 0.6472 - loss: 0.7576\n",
      "Test Loss: 0.7576, Test Accuracy: 64.72%\n",
      "\u001b[1m10/10\u001b[0m \u001b[32m━━━━━━━━━━━━━━━━━━━━\u001b[0m\u001b[37m\u001b[0m \u001b[1m20s\u001b[0m 2s/step\n"
     ]
    },
    {
     "data": {
      "image/png": "[encoded data removed]",
      "text/plain": [
       "<Figure size 640x480 with 2 Axes>"
      ]
     },
     "metadata": {},
     "output_type": "display_data"
    },
    {
     "name": "stdout",
     "output_type": "stream",
     "text": [
      "\n",
      "Classification Report:\n",
      "\n",
      "              precision    recall  f1-score   support\n",
      "\n",
      "      Normal       0.54      0.75      0.63       116\n",
      "   Malignant       0.76      0.72      0.74       158\n",
      "      Benign       0.00      0.00      0.00        35\n",
      "\n",
      "    accuracy                           0.65       309\n",
      "   macro avg       0.43      0.49      0.46       309\n",
      "weighted avg       0.59      0.65      0.61       309\n",
      "\n"
     ]
    },
    {
     "name": "stderr",
     "output_type": "stream",
     "text": [
      "/opt/anaconda3/lib/python3.12/site-packages/sklearn/metrics/_classification.py:1509: UndefinedMetricWarning: Precision is ill-defined and being set to 0.0 in labels with no predicted samples. Use `zero_division` parameter to control this behavior.\n",
      "  _warn_prf(average, modifier, f\"{metric.capitalize()} is\", len(result))\n",
      "/opt/anaconda3/lib/python3.12/site-packages/sklearn/metrics/_classification.py:1509: UndefinedMetricWarning: Precision is ill-defined and being set to 0.0 in labels with no predicted samples. Use `zero_division` parameter to control this behavior.\n",
      "  _warn_prf(average, modifier, f\"{metric.capitalize()} is\", len(result))\n",
      "/opt/anaconda3/lib/python3.12/site-packages/sklearn/metrics/_classification.py:1509: UndefinedMetricWarning: Precision is ill-defined and being set to 0.0 in labels with no predicted samples. Use `zero_division` parameter to control this behavior.\n",
      "  _warn_prf(average, modifier, f\"{metric.capitalize()} is\", len(result))\n"
     ]
    }
   ],
   "source": [
    "loss, acc = model.evaluate(test_gen)\n",
    "print(f\"Test Loss: {loss:.4f}, Test Accuracy: {acc*100:.2f}%\")\n",
    "\n",
    "y_true = test_gen.classes\n",
    "y_prob = model.predict(test_gen)\n",
    "y_pred = np.argmax(y_prob, axis=1)\n",
    "\n",
    "labels_present = np.unique(y_true)\n",
    "cm = confusion_matrix(y_true, y_pred, labels=labels_present)\n",
    "\n",
    "sns.heatmap(cm, annot=True, fmt=\"d\", cmap=\"Blues\",\n",
    "            xticklabels=[classes[i] for i in labels_present],\n",
    "            yticklabels=[classes[i] for i in labels_present])\n",
    "plt.xlabel(\"Predicted\")\n",
    "plt.ylabel(\"True\")\n",
    "plt.show()\n",
    "\n",
    "print(\"\\nClassification Report:\\n\")\n",
    "print(classification_report(y_true, y_pred, labels=labels_present, target_names=[classes[i] for i in labels_present]))\n"
   ]
  },
  {
   "cell_type": "code",
   "execution_count": 31,
   "id": "bd65c6f1-fcb9-49cb-a2db-3b3d360e9675",
   "metadata": {},
   "outputs": [
    {
     "name": "stdout",
     "output_type": "stream",
     "text": [
      "\u001b[1m1/1\u001b[0m \u001b[32m━━━━━━━━━━━━━━━━━━━━\u001b[0m\u001b[37m\u001b[0m \u001b[1m1s\u001b[0m 956ms/step\n",
      "Prediction: Malignant, Confidence: 86.64%\n"
     ]
    }
   ],
   "source": [
    "from PIL import Image\n",
    "\n",
    "img_path = \"/Users/maithilimahadik/Desktop/The IQ-OTHNCCD lung cancer dataset/Malignant/Malignant case (2).jpg\"  \n",
    "img = Image.open(img_path).resize((224, 224))\n",
    "arr = np.array(img) / 255.0\n",
    "arr = np.expand_dims(arr, axis=0)\n",
    "\n",
    "pred = model.predict(arr)\n",
    "label = classes[np.argmax(pred)]\n",
    "confidence = np.max(pred) * 100\n",
    "print(f\"Prediction: {label}, Confidence: {confidence:.2f}%\")"
   ]
  },
  {
   "cell_type": "code",
   "execution_count": null,
   "id": "7ff79bdd-6099-40d3-a60e-b0909dcc01e9",
   "metadata": {},
   "outputs": [],
   "source": []
  }
 ],
 "metadata": {
  "kernelspec": {
   "display_name": "Python 3 (ipykernel)",
   "language": "python",
   "name": "python3"
  },
  "language_info": {
   "codemirror_mode": {
    "name": "ipython",
    "version": 3
   },
   "file_extension": ".py",
   "mimetype": "text/x-python",
   "name": "python",
   "nbconvert_exporter": "python",
   "pygments_lexer": "ipython3",
   "version": "3.12.4"
  }
 },
 "nbformat": 4,
 "nbformat_minor": 5
}
